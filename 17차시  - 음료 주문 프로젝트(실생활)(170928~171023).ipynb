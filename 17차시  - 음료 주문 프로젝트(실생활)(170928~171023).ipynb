{
 "cells": [
  {
   "cell_type": "markdown",
   "metadata": {},
   "source": [
    "선생님 안녕하세요? 이번 시간에는 카페에서 음료를 주문하는 프로그램을 만들면서 딕셔너리라는 새로운 자료형에 대해서 배워보도록 하겠습니다."
   ]
  },
  {
   "cell_type": "markdown",
   "metadata": {},
   "source": [
    "# 리스트 복습\n",
    "먼저 제가 좋아하는 간식이 적힌 리스트를 가지고 리스트에 대해 간단히 복습을 해보겠습니다.\n",
    "퀴즈에 대한 정답을 생각해보시고 마음 속으로 말씀해주시기 바랍니다."
   ]
  },
  {
   "cell_type": "markdown",
   "metadata": {},
   "source": [
    "첫 번째 퀴즈입니다. 이 코드의 실행결과는 어떻게 될까요?\n",
    "(결과를 보여준다)\n",
    "네, 보시는 것과 같이 5개의 메뉴가 순서대로 한 줄씩 출력이 됩니다."
   ]
  },
  {
   "cell_type": "code",
   "execution_count": 19,
   "metadata": {
    "collapsed": false
   },
   "outputs": [
    {
     "name": "stdout",
     "output_type": "stream",
     "text": [
      "치킨\n",
      "피자\n",
      "보쌈\n",
      "망고빙수\n",
      "버터구이오징어\n"
     ]
    }
   ],
   "source": [
    "menu = ['치킨','피자','보쌈','망고빙수','버터구이오징어']\n",
    "\n",
    "for item in menu :\n",
    "    print(item)"
   ]
  },
  {
   "cell_type": "markdown",
   "metadata": {},
   "source": [
    "이번에는 인덱스로 리스트에 접근하는 방법에 대해서 복습해보겠습니다.\n",
    "여기에서 망고빙수를 출력하고 싶다면 빈 칸에 어떤 값을 넣어야할까요?\n",
    "\n",
    "네, 리스트의 인덱스도 0번부터 시작하기 때문에 네 번째 값 망고빙수를 출력하려면 menu의 인덱스를 3이라고 입력하시면 됩니다."
   ]
  },
  {
   "cell_type": "code",
   "execution_count": 4,
   "metadata": {
    "collapsed": false
   },
   "outputs": [
    {
     "name": "stdout",
     "output_type": "stream",
     "text": [
      "망고빙수\n"
     ]
    }
   ],
   "source": [
    "menu = ['치킨','피자','보쌈','망고빙수','버터구이오징어']\n",
    "\n",
    "print(menu[3])"
   ]
  },
  {
   "cell_type": "markdown",
   "metadata": {},
   "source": [
    "이번에는 리스트의 슬라이싱에 대해서 복습해보겠습니다.\n",
    "menu[0:콜론2]를 출력하면 어떤 결과가 나올까요?\n",
    "\n",
    "네, 이 코드의 실행결과는 menu 리스트의 0번에서 2번 이전까지, 즉 0번과 1번 인덱스 부분을 잘라서 출력해주기 때문에,\n",
    "(결과를 보여준다)\n",
    "앞의 메뉴 두 개가 출력됩니다."
   ]
  },
  {
   "cell_type": "code",
   "execution_count": 3,
   "metadata": {
    "collapsed": false
   },
   "outputs": [
    {
     "name": "stdout",
     "output_type": "stream",
     "text": [
      "['치킨', '피자']\n"
     ]
    }
   ],
   "source": [
    "menu = ['치킨','피자','보쌈','망고빙수','버터구이오징어']\n",
    "\n",
    "print(menu[0:2])"
   ]
  },
  {
   "cell_type": "markdown",
   "metadata": {},
   "source": [
    "오늘의 마지막 복습 퀴즈입니다.\n",
    "이 프로그램은 어떤 목적으로 만든 프로그램일까요?\n",
    "여기에서 price는 메뉴의 가격을 의미하는 리스트입니다.\n",
    "\n",
    "네, 정답은 입력받은 메뉴에 대힌 가격을 출력하는 프로그램이었습니다."
   ]
  },
  {
   "cell_type": "code",
   "execution_count": 31,
   "metadata": {
    "collapsed": false
   },
   "outputs": [
    {
     "name": "stdout",
     "output_type": "stream",
     "text": [
      "주문하시려는 메뉴를 입력해주세요 :망고빙수\n",
      "10000\n"
     ]
    }
   ],
   "source": [
    "menu = ['치킨','피자','보쌈','망고빙수','버터구이오징어']\n",
    "price = [16000,18000,20000,10000,4000]\n",
    "\n",
    "item = input('주문하시려는 메뉴를 입력해주세요 :')\n",
    "cnt = 0\n",
    "for i in menu :\n",
    "    if i == item :\n",
    "        print(price[cnt])\n",
    "    cnt = cnt + 1"
   ]
  },
  {
   "cell_type": "markdown",
   "metadata": {},
   "source": [
    "그리고, 지금보시는 것은 방금 보셨던 프로그램을 오늘 배우게 될 딕셔너리라는 자료형으로 구현한 코드입니다.\n",
    "이제 곧 배우시겠지만, 코드가 훨씬 간단해졌죠?\n",
    "\n",
    "그러면, 지금부터 리스트와는 또 다른 장점을 갖고 있는 자료형인, 딕셔너리에 대해서 알아보도록 하겠습니다."
   ]
  },
  {
   "cell_type": "code",
   "execution_count": 20,
   "metadata": {
    "collapsed": false
   },
   "outputs": [
    {
     "name": "stdout",
     "output_type": "stream",
     "text": [
      "주문하시려는 메뉴를 입력해주세요 :망고빙수\n",
      "10000\n"
     ]
    }
   ],
   "source": [
    "menu = {'치킨' : 16000, '피자' : 18000, '보쌈' : 20000, \n",
    "        '망고빙수' : 10000, '버터구이오징어' : 4000}\n",
    "\n",
    "item = input('주문하시려는 메뉴를 입력해주세요 :')\n",
    "print(menu[item])"
   ]
  },
  {
   "cell_type": "markdown",
   "metadata": {
    "collapsed": true
   },
   "source": []
  },
  {
   "cell_type": "markdown",
   "metadata": {},
   "source": [
    "# 딕셔너리의 이해\n",
    "\n",
    "딕셔너리는 '사전'이라는 뜻을 갖고 있기 때문에 영한사전 프로그램에 비유해서 딕셔너리의 개념을 설명해드리겠습니다.\n",
    "(인터넷 사전 이미지 부탁드립니다)\n",
    "'apple' : '사과'\n",
    "'egg' : '계란'\n",
    "\n",
    "영한사전 프로그램에는 영어 단어와 그 단어에 해당하는 한글 뜻이 연결되어있습니다.\n",
    "그래서 영한사전 프로그램에 우리가 알고자하는 단어를 입력하면, 그 단어에 연결된 한글 뜻을 보여주죠.\n",
    "\n",
    "(애니메이션 추가 부탁드립니다)\n",
    "여기에서, 영어 단어과 같이 우리가 키워드로 사용하는 데이터를 키(key)라고 하고, 한글 뜻과 같이 키워드에 연결된 데이터를 값(value)이라고 합니다.\n",
    "이때, 키는 키워드로 사용하는 데이터이기 때문에 딕셔너리 안에서 중복되어서는 안되고 유일한 값을 갖게 됩니다. 인터넷 아이디를 키로 비밀번호를 값으로 이해하셔도 좋을 것 같습니다.\n",
    "\n",
    "그리고 이와 같이 키와 값이 한 쌍으로 저장되는 자료형이 딕셔너리인데요,\n",
    "지금 이렇게 추상적인 설명으로는 이해가 안되시는 것이 당연하기 때문에, 함께 코드를 보면서 보다 자세히 설명해드리겠습니다."
   ]
  },
  {
   "cell_type": "markdown",
   "metadata": {},
   "source": [
    "### 딕셔너리 선언\n",
    "\n",
    "먼저 딕셔너리를 만드는 방법에 대해 알아보도록 하겠습니다.\n",
    "\n",
    "딕셔너리를 선언하는 방법은 3가지가 있는데요,\n",
    "\n",
    "첫번째는 중괄호를 활용하는 방법입니다. 리스트를 비어있는 대괄호로 생성했던 것처럼, 비어있는 중괄호를 열고 닫으면 새로운 딕셔너리가 생성됩니다.\n",
    "두번째는 중괄호 안에 키와 값의 쌍을 입력하는 방법입니다. 중괄호 안에는 콜론 기호를 사이에 두고 키와 값이 순서대로 들어갑니다.\n",
    "주의하셔야할 점은 키는 딕셔너리 안에 유일한 데이터여야하기 때문에 만약 다음과 같이 똑같은 키가 여러 쌍 존재하는 딕셔너리를 생성하신다면 맨 뒤에 입력된 쌍만 생성됩니다.\n",
    "\n",
    "세번째는 딕셔너리 생성자를 활용하는 방법인데, 이와 같이 dict()함수를 사용해서 새로운 딕셔너리를 생성합니다.\n",
    "이번 연수에서는 첫번째나 두번째 방법을 주로 사용하도록 하겠습니다."
   ]
  },
  {
   "cell_type": "code",
   "execution_count": 11,
   "metadata": {
    "collapsed": false
   },
   "outputs": [
    {
     "name": "stdout",
     "output_type": "stream",
     "text": [
      "{'apple': '사과', 'egg': '달걀'}\n"
     ]
    }
   ],
   "source": [
    "영어사전 = {}\n",
    "영어사전 = {'apple':'사과', 'egg':'계란'}\n",
    "영어사전 = {'apple':'사과', 'egg':'계란', 'egg' : '달걀'}\n",
    "print(영어사전)\n",
    "영어사전 = dict()"
   ]
  },
  {
   "cell_type": "markdown",
   "metadata": {},
   "source": [
    "### 데이터 추가\n",
    "이번에는 딕셔너리에 데이터를 추가하는 방법에 대해 알아보도록 하겠습니다.\n",
    "딕셔너리에 데이터를 추가할 때는,\n",
    "다음과 같이 딕셔너리 이름 뒤에 대괄호를 쓰고, 대괄호 안에는 '키'를, 대입연산자 다음에는 '값'을 입력하면 됩니다.\n",
    "\n",
    "그러면 영어사전에 새로운 데이터가 잘 추가되었는지 확인해보겠습니다.\n",
    "\n",
    "보시는 것처럼 zoo라는 키와 동물원이라는 값의 한 쌍이 추가된 것을 확인하실 수 있습니다."
   ]
  },
  {
   "cell_type": "code",
   "execution_count": 22,
   "metadata": {
    "collapsed": false
   },
   "outputs": [
    {
     "name": "stdout",
     "output_type": "stream",
     "text": [
      "{'apple': '사과', 'egg': '계란', 'zoo': '동물원'}\n"
     ]
    }
   ],
   "source": [
    "영어사전 = {'apple':'사과', 'egg':'계란'}\n",
    "영어사전['zoo'] = '동물원'\n",
    "print(영어사전)"
   ]
  },
  {
   "cell_type": "markdown",
   "metadata": {},
   "source": [
    "### 데이터 수정\n",
    "이번에는 딕셔너리에 저장된 데이터를 수정하는 방법에 대해 알아보도록 하겠습니다.\n",
    "\n",
    "만약 다음과 같이 딕셔너리에 이미 있는 키에 다른 값을 대입한다면 해당 키의 값이 가장 최근의 값으로 수정됩니다."
   ]
  },
  {
   "cell_type": "code",
   "execution_count": 23,
   "metadata": {
    "collapsed": false
   },
   "outputs": [
    {
     "name": "stdout",
     "output_type": "stream",
     "text": [
      "{'apple': '사과(과일의 한 종류)', 'egg': '계란', 'zoo': '동물원'}\n"
     ]
    }
   ],
   "source": [
    "영어사전['apple'] = '사과(과일의 한 종류)'\n",
    "print(영어사전)"
   ]
  },
  {
   "cell_type": "markdown",
   "metadata": {},
   "source": [
    "### 데이터 접근하기\n",
    "이번에는 딕셔너리에 저장된 데이터에 접근하는 방법에 대해 알아보도록 하겠습니다.\n",
    "\n",
    "딕셔너리에 저장된 값에 접근하기 위해서는 리스트에서 인덱스를 통해 접근했던 것과 비슷한 방식으로 딕셔너리 이름 뒤에 대괄호를 붙이고,\n",
    "대괄호 안에 키 값을 입력하면 키에 해당하는 값이 반환됩니다.\n",
    "\n",
    "리스트에서는 정수만을 인덱스로 쓸 수 있었지만, 딕셔너리에서는 이렇게 문자열도 인덱스로 활용할 수 있다는 장점이 있습니다."
   ]
  },
  {
   "cell_type": "code",
   "execution_count": 16,
   "metadata": {
    "collapsed": false
   },
   "outputs": [
    {
     "name": "stdout",
     "output_type": "stream",
     "text": [
      "사과(과일의 한 종류)\n"
     ]
    }
   ],
   "source": [
    "print(영어사전['apple'])"
   ]
  },
  {
   "cell_type": "markdown",
   "metadata": {},
   "source": [
    "### 데이터 삭제하기\n",
    "\n",
    "이번에는 딕셔너리에 저장된 데이터를 삭제하는 방법에 대해 알아보도록 하겠습니다.\n",
    "\n",
    "딕셔너리에 저장된 데이터를 삭제하고 싶을 때는 del 구문을 사용하시면 됩니다.\n",
    "보시는 것처럼 del 뒤에 딕셔너리에서 지우고자하는 키를 작성하시면 키와 값의 쌍이 삭제됩니다."
   ]
  },
  {
   "cell_type": "code",
   "execution_count": 24,
   "metadata": {
    "collapsed": false
   },
   "outputs": [
    {
     "name": "stdout",
     "output_type": "stream",
     "text": [
      "{'apple': '사과(과일의 한 종류)', 'zoo': '동물원'}\n"
     ]
    }
   ],
   "source": [
    "del 영어사전['egg']\n",
    "print(영어사전)"
   ]
  },
  {
   "cell_type": "markdown",
   "metadata": {},
   "source": [
    "### 데이터 존재 유무 확인하기\n",
    "\n",
    "이번에는 딕셔너리에 데이터가 존재하는지 알아보는 방법에 대해 알아보도록 하겠습니다.\n",
    "\n",
    "만약 딕셔너리 안에 데이터가 존재하는지 알고 싶을 때는 다음과 같이 in 연산자를 활용하여 확인할 수 있습니다.\n",
    "in 연산자를 사용하실 때는 키가 있는지 없는지만 확인할 수 있고 값이 있는지 없는지를 확인할 수는 없다는 점을 유의하시기 바랍니다."
   ]
  },
  {
   "cell_type": "code",
   "execution_count": 23,
   "metadata": {
    "collapsed": false
   },
   "outputs": [
    {
     "name": "stdout",
     "output_type": "stream",
     "text": [
      "True\n",
      "False\n"
     ]
    }
   ],
   "source": [
    "print('zoo' in 영어사전)\n",
    "print('egg' in 영어사전)"
   ]
  },
  {
   "cell_type": "markdown",
   "metadata": {},
   "source": [
    "### for문을 활용한 데이터 접근\n",
    "\n",
    "이번에는 마지막으로 for문을 활용해 딕셔너리의 데이터에 접근하는 방법에 대해 알아보도록 하겠습니다.\n",
    "\n",
    "다음과 같이 for문을 활용해 딕셔너리를 출력하면 다음과 같이 키값만 출력이 됩니다.\n",
    "\n",
    "그리고 이것은 keys() 함수를 적용한 것과 같은 효과를 나타냅니다."
   ]
  },
  {
   "cell_type": "code",
   "execution_count": 25,
   "metadata": {
    "collapsed": false
   },
   "outputs": [
    {
     "name": "stdout",
     "output_type": "stream",
     "text": [
      "apple\n",
      "zoo\n",
      "apple\n",
      "zoo\n"
     ]
    }
   ],
   "source": [
    "for word in 영어사전 :\n",
    "    print(word)\n",
    "    \n",
    "for word in 영어사전.keys() :\n",
    "    print(word)"
   ]
  },
  {
   "cell_type": "markdown",
   "metadata": {},
   "source": [
    "그러면 value만을 출력하고 싶을 때는 어떻게 해야할까요?\n",
    "\n",
    "앞에서 배우셨던 딕셔너리의 특성을 활용하여 다음과 같이 value값을 출력할 수도 있고,\n",
    "\n",
    "이렇게 values() 함수를 활용해서 출력할 수도 있습니다.\n",
    "\n",
    "지금까지 딕셔너리에 대한 기본적인 내용들을 알아보았는데요,\n",
    "이제부터는 배운 내용을 응용해서 음료 주문 프로젝트를 함께 만들어보도록 하겠습니다."
   ]
  },
  {
   "cell_type": "code",
   "execution_count": 26,
   "metadata": {
    "collapsed": false
   },
   "outputs": [
    {
     "name": "stdout",
     "output_type": "stream",
     "text": [
      "사과(과일의 한 종류)\n",
      "동물원\n",
      "사과(과일의 한 종류)\n",
      "동물원\n"
     ]
    }
   ],
   "source": [
    "for word in 영어사전 :\n",
    "    print(영어사전[word])\n",
    "    \n",
    "for word in 영어사전.values() :\n",
    "    print(word)"
   ]
  },
  {
   "cell_type": "markdown",
   "metadata": {},
   "source": [
    "# 음료 주문 프로젝트\n",
    "\n",
    "지금부터 딕셔너리를 활용해 간단한 음료 주문 프로그램을 만들어보도록 하겠습니다.\n",
    "\n",
    "이 프로그램은 고객에게 어떤 메뉴가 있는지 알려주고, 고객이 메뉴를 입력하면 얼마를 내야하는지 알려줍니다.\n",
    "그리고 주문한 사람의 휴대폰 번호를 입력하면 10번 주문시 쿠폰을 1개씩 발급해주는 기능까지 포함되어 있습니다."
   ]
  },
  {
   "cell_type": "markdown",
   "metadata": {},
   "source": [
    "음료 주문 프로그램에는 크게 다음과 같은 기능이 있습니다.\n",
    "\n",
    "1) 주문하기\n",
    "2) 메뉴 추가하기\n",
    "3) 가격 수정하기\n",
    "4) 메뉴 삭제하기\n",
    "5) 쿠폰 발급기능\n",
    "\n",
    "각각의 기능에 대한 알고리즘을 생각해보고, 프로그램으로 만들어보도록 하겠습니다."
   ]
  },
  {
   "cell_type": "markdown",
   "metadata": {},
   "source": [
    "1) 주문하기(1)\n",
    "\n",
    "먼저 menu라는 딕셔너리를 만들어보겠습니다.\n",
    "키위, 딸기, 바나나를 키로, 각각에 대한 가격을 값으로 주었습니다.\n",
    "\n",
    "그리고, menu 딕셔너리에서 키위라는 키를 갖는 값을 출력하면 5000이라는 키위의 가격이 출력이 되는 것을 보실 수 있습니다."
   ]
  },
  {
   "cell_type": "code",
   "execution_count": 35,
   "metadata": {
    "collapsed": false
   },
   "outputs": [
    {
     "name": "stdout",
     "output_type": "stream",
     "text": [
      "5000\n"
     ]
    }
   ],
   "source": [
    "menu = {'키위':5000, '딸기':4000, '바나나':4500}\n",
    "\n",
    "print(menu['키위'])"
   ]
  },
  {
   "cell_type": "markdown",
   "metadata": {},
   "source": [
    "1) 주문하기(2)\n",
    "이번에는 메뉴를 출력해보겠습니다. \n",
    "먼저 for문을 활용해 menu 딕셔너리를 하나씩 출력해보겠습니다.\n",
    "\n",
    "여기에 메뉴라는 것을 알아볼 수 있도록 메뉴라는 문자열을 출력해주면 더 좋겠네요.\n",
    "\n",
    "네, 실행결과를 보니 메뉴가 잘 출력이 되었네요."
   ]
  },
  {
   "cell_type": "code",
   "execution_count": 27,
   "metadata": {
    "collapsed": false
   },
   "outputs": [
    {
     "name": "stdout",
     "output_type": "stream",
     "text": [
      "[메뉴]\n",
      "키위\n",
      "딸기\n",
      "바나나\n"
     ]
    }
   ],
   "source": [
    "menu = {'키위':5000, '딸기':4000, '바나나':4500}\n",
    "print('[메뉴]')\n",
    "\n",
    "for juice in menu :\n",
    "    print(juice)"
   ]
  },
  {
   "cell_type": "markdown",
   "metadata": {},
   "source": [
    "1) 주문하기(3)\n",
    "그런데 메뉴에 가격이 안써있어서 고객이 주문할 때 가격이 궁금할 것 같습니다.\n",
    "어떻게하면 가격을 출력할 수 있을까요? 5초 정도 생각하실 시간을 드리겠습니다.\n",
    "5 4 3 2 1\n",
    "가격은 지금 menu라는 딕셔너리의 값이라는거 알고 계시죠? 딕셔너리에서 값을 확인하려면 딕셔너리 이름에 대괄호를 붙이고 키를 정해주면 되기 때문에,\n",
    "menu[juice]를 추가해주면 가격이 함께 출력될 것 같습니다.\n",
    "\n",
    "잘 실행되는지 실행해볼까요? 네, 실행결과를 보니 메뉴가 잘 출력이 되었네요."
   ]
  },
  {
   "cell_type": "code",
   "execution_count": 39,
   "metadata": {
    "collapsed": false
   },
   "outputs": [
    {
     "name": "stdout",
     "output_type": "stream",
     "text": [
      "[메뉴]\n",
      "키위 5000\n",
      "딸기 4000\n",
      "바나나 4500\n"
     ]
    }
   ],
   "source": [
    "menu = {'키위':5000, '딸기':4000, '바나나':4500}\n",
    "print('[메뉴]')\n",
    "\n",
    "for juice in menu :\n",
    "    print(juice, menu[juice])"
   ]
  },
  {
   "cell_type": "markdown",
   "metadata": {},
   "source": [
    "1) 주문하기(4)\n",
    "이번에는 고객으로부터 메뉴를 입력받아서 주문한 메뉴의 가격을 출력하는 기능을 추가해보겠습니다.\n",
    "\n",
    "먼저 order라는 변수에 메뉴를 입력받고, order라는 주스의 가격을 출력하면 되겠죠?\n",
    "\n",
    "이 문법을 사용하는 것이 아직 조금 어색하시겠지만, 앞으로도 많이 사용하시게 될 거라서 곧 익숙해지실테니 걱정하지 않으셨으면 좋겠습니다.\n",
    "\n",
    "자, 실행해보겠습니다. 메뉴는 무엇을 고를까요? 바나나를 골라보겠습니다.\n",
    "네, 바나나의 가격인 4500원이 잘 출력되었네요."
   ]
  },
  {
   "cell_type": "code",
   "execution_count": 29,
   "metadata": {
    "collapsed": false
   },
   "outputs": [
    {
     "name": "stdout",
     "output_type": "stream",
     "text": [
      "[메뉴]\n",
      "키위 5000\n",
      "딸기 4000\n",
      "바나나 4500\n",
      "메뉴를 골라주세요 : 바나나\n",
      "4500 원 입니다.\n"
     ]
    }
   ],
   "source": [
    "menu = {'키위':5000, '딸기':4000, '바나나':4500}\n",
    "print('[메뉴]')\n",
    "\n",
    "for juice in menu :\n",
    "    print(juice, menu[juice])\n",
    "    \n",
    "order = input('메뉴를 골라주세요 : ')\n",
    "\n",
    "print(menu[order],'원 입니다.')"
   ]
  },
  {
   "cell_type": "markdown",
   "metadata": {},
   "source": [
    "1) 주문하기(5)\n",
    "이번에는 고객이 아니라 카페 주인의 입장에서 새로운 메뉴를 추가해보겠습니다.\n",
    "\n",
    "딕셔너리에 새로운 내용을 추가하는 방법을 잊으셨을까봐 잠시 상기시켜드리겠습니다."
   ]
  },
  {
   "cell_type": "code",
   "execution_count": 48,
   "metadata": {
    "collapsed": false
   },
   "outputs": [
    {
     "name": "stdout",
     "output_type": "stream",
     "text": [
      "{'키위': 5000, '딸기': 4000, '바나나': 4500, '자몽': 5000}\n"
     ]
    }
   ],
   "source": [
    "menu['자몽'] = 5000\n",
    "print(menu)"
   ]
  },
  {
   "cell_type": "markdown",
   "metadata": {},
   "source": [
    "그러면 이 문법을 활용해서 추가할 주스 이름과 가격을 입력받는 코드를 작성해보겠습니다.\n",
    "실행해보니 메뉴 딕셔너리에 내용이 추가된 것을 확인할 수 있습니다."
   ]
  },
  {
   "cell_type": "code",
   "execution_count": 3,
   "metadata": {
    "collapsed": false
   },
   "outputs": [
    {
     "name": "stdout",
     "output_type": "stream",
     "text": [
      "추가하실 주스 이름을 입력해주세요 : 두리안\n",
      "두리안주스의 가격을 입력해주세요 : 10000\n",
      "{'키위': 5000, '딸기': 4000, '바나나': 4500, '두리안': 10000}\n"
     ]
    }
   ],
   "source": [
    "item = input('추가하실 주스 이름을 입력해주세요 : ')\n",
    "price = input(item+'주스의 가격을 입력해주세요 : ')\n",
    "menu[item] = int(price)\n",
    "print(menu)"
   ]
  },
  {
   "cell_type": "code",
   "execution_count": null,
   "metadata": {
    "collapsed": true
   },
   "outputs": [],
   "source": [
    "1) 주문하기(6)\n",
    "이번에는 메뉴를 삭제해보겠습니다.\n",
    "\n",
    "딕셔너리에서 내용의 삭제는 del을 사용했었죠?\n",
    "\n",
    "그래서 코드를 이렇게 작성하시면 됩니다."
   ]
  },
  {
   "cell_type": "code",
   "execution_count": 47,
   "metadata": {
    "collapsed": false
   },
   "outputs": [
    {
     "name": "stdout",
     "output_type": "stream",
     "text": [
      "삭제하실 주스 이름을 입력해주세요 : 두리안\n",
      "{'키위': 5000, '딸기': 4000, '바나나': 4500}\n"
     ]
    }
   ],
   "source": [
    "item = input('삭제하실 주스 이름을 입력해주세요 : ')\n",
    "del menu[item]\n",
    "print(menu)"
   ]
  },
  {
   "cell_type": "code",
   "execution_count": null,
   "metadata": {
    "collapsed": true
   },
   "outputs": [],
   "source": [
    "1) 주문하기(7)\n",
    "\n",
    "이번 기능의 목표 상태는 다음과 같이 메뉴의 이름과 가격을 출력해주고, 주문을 받은 후 입력받은 메뉴에 대한 총 금액을 출력해주는 것인데,\n",
    "특이한 것은 다음과 같이 여러 개의 메뉴를 띄어쓰기로 입력할 수 있다는 점입니다.\n",
    "\n",
    "그러면 어떻게 해결하면 좋을지 생각해보시고, 해결해보신 후에 저의 방법과 비교해보시기 바랍니다.\n",
    "\n",
    "(멈춤)\n",
    "\n",
    "먼저 메뉴 출력 부분을 보시면서 설명을 드리겠습니다.\n",
    "\n",
    "메뉴의 이름과 가격을 출력하는 부분은 이렇게 처리해주었습니다.\n",
    "\n",
    "다음으로 주문하는 부분을 보시겠습니다.\n",
    "\n",
    "input 함수로 입력을 받았는데, 만약 여러 개를 주문할 경우에는 어떻게 각각의 메뉴를 구분할 수 있을까요?\n",
    "\n",
    "네, 띄어쓰기를 기준으로 문자열을 리스트로 만들어주는 split 함수를 사용해보겠습니다.\n",
    "\n",
    "이제 이렇게 생긴 order라는 리스트에는 주문한 메뉴들이 저장되어있겠죠?\n",
    "\n",
    "그러니까 order 리스트를 순회하며 각각의 쥬스의 값을 더해주면 전체 금액이 계산됩니다.\n",
    "\n",
    "선생님들께서 작성하신 코드와 비교해보시고 좋은 아이디어는 게시판을 통해 공유해주시기 바랍니다."
   ]
  },
  {
   "cell_type": "code",
   "execution_count": 1,
   "metadata": {
    "collapsed": false
   },
   "outputs": [
    {
     "name": "stdout",
     "output_type": "stream",
     "text": [
      "[메뉴]\n",
      "키위(5000) 딸기(4000) 바나나(4500) \n",
      "주문해주세요(여러 개를 시키실 경우 띄어쓰기 부탁드립니다^^) : 바나나 딸기 키위 바나나\n",
      "18000 원 입니다.\n"
     ]
    }
   ],
   "source": [
    "menu = {'키위':5000, '딸기':4000, '바나나':4500}\n",
    "result = 0\n",
    "\n",
    "print('[메뉴]')\n",
    "\n",
    "for juice in menu :\n",
    "    msg = juice + '(' + str(menu[juice]) + ')'\n",
    "    print(msg, end=\" \")\n",
    "    \n",
    "order = input('\\n주문해주세요(여러 개를 주문하실 경우 띄어쓰기 부탁드립니다^^) : ').split()\n",
    "\n",
    "for i in order :\n",
    "    result += menu[i]\n",
    "\n",
    "print(result,'원 입니다.')"
   ]
  },
  {
   "cell_type": "markdown",
   "metadata": {},
   "source": [
    "이번에는 쿠폰 발급 기능을 구현해보겠습니다.\n",
    "\n",
    "이 매장의 쿠폰은 전화번호를 기준으로 주문 갯수만큼 적립시켜주고, 포인트가 10이 되면 쿠폰이 1개 발행됩니다.\n",
    "추가로, 약간의 재미를 위해서 처음 적립하는 고객에게는 환영 메세지를 보여주면 좋겠네요.\n",
    "\n",
    "그러면 지금부터 쿠폰 발급 및 적립이라는 문제를 어떻게 해결하면 좋을지 문제를 작게 나누어보겠습니다.\n",
    "\n",
    "\n",
    "전체 문제를 작은 문제로 분해해보면 포인트를 적립하는 부분과 포인트가 10번이 되면 쿠폰을 발행하는 기능으로 나눌 수 있을 것 같습니다.\n",
    "\n",
    "그러면 먼저 포인트를 적립하는 부분을 구상해보겠습니다.\n",
    "\n",
    "전화번호와 포인트 값이 연결되기 때문에 포인트를 나타낼 딕셔너리를 하나 만들어주면 좋겠네요,\n",
    "\n",
    "그리고 적립받을 전화번호를 입력받고,\n",
    "\n",
    "해당 전화번호의 값에 앞에서 주문했던 주문 갯수를 더해줍니다.\n",
    "\n",
    "만약 전화번호가 처음 등록된 것이라면 환영 메세지를 출력하는 부분도 구현해야겠네요.\n",
    "\n",
    "마지막으로 적립된 결과를 출력해주면 될 것 같습니다.\n",
    "\n",
    "이제 코드로 구현해보겠습니다.\n",
    "\n",
    "먼저 포인트라는 이름의 딕셔너리를 만들어보겠습니다. 이미 몇 번 포인트가 적립된 것으로 가정하겠습니다.\n",
    "\n",
    "그리고 전화번호를 입력받아서, 처음 등록된 번호라면 환영 메세지를 출력해주고,\n",
    "\n",
    "기존에 있던 번호라면 주문 리스트의 길이만큼을 다음과 같이 더해줍니다.\n",
    "\n",
    "그리고 딕셔너리를 출력하면 현재 포인트 현황이 업데이트된 것을 볼 수 있습니다."
   ]
  },
  {
   "cell_type": "code",
   "execution_count": 40,
   "metadata": {
    "collapsed": false
   },
   "outputs": [
    {
     "name": "stdout",
     "output_type": "stream",
     "text": [
      "적립하실 전화번호를 입력해주세요 : 09011112222\n",
      "처음 방문해주셔서 감사합니다 :)\n",
      "{'09012345678': 9, '09098765432': 2, '09011112222': 1}\n"
     ]
    }
   ],
   "source": [
    "point = {'09012345678':9, '09098765432':2}\n",
    "order = ['바나나','딸기','딸기']\n",
    "\n",
    "number = input('적립하실 전화번호를 입력해주세요 : ')\n",
    "\n",
    "if number in point :\n",
    "    point[number] += len(order)\n",
    "    print(point)\n",
    "else :\n",
    "    print('처음 방문해주셔서 감사합니다 :)')\n",
    "    point[number] = 1"
   ]
  },
  {
   "cell_type": "code",
   "execution_count": 4,
   "metadata": {
    "collapsed": false
   },
   "outputs": [
    {
     "name": "stdout",
     "output_type": "stream",
     "text": [
      "적립하실 전화번호를 입력해주세요 : 01020001983\n",
      "{'01020001983': 9, '01030001983': 2}\n"
     ]
    }
   ],
   "source": [
    "point = {'01020001983':4, '01030001983':2}\n",
    "\n",
    "number = input('적립하실 전화번호를 입력해주세요 : ')\n",
    "point[number] = point[number] + len(order)\n",
    "\n",
    "print(point)"
   ]
  },
  {
   "cell_type": "markdown",
   "metadata": {},
   "source": [
    "이제 쿠폰을 발행해보겠습니다.\n",
    "\n",
    "쿠폰을 발행하는 알고리즘은 적립하는 번호에 저장된 포인트가 10 이상이 경우 쿠폰을 1만큼 더해주고, 10 포인트를 차감하면 되겠죠?\n",
    "물론 10잔 넘게 주문을 하는 경우를 생각하면 조금 더 고려해야할 것이 있겠지만 여기서는 10잔 이하로 주문한다고 가정하겠습니다.\n",
    "\n",
    "먼저 쿠폰 딕셔너리를 하나 만들고, 포인트가 10 이상일 경우이면 쿠폰 값을 1 증가시키되 쿠폰 딕셔너리에 저장 안된 값이라면 1이라고 초기화를 시켜주겠습니다.\n",
    "그리고 10 포인트를 빼면 됩니다."
   ]
  },
  {
   "cell_type": "code",
   "execution_count": 18,
   "metadata": {
    "collapsed": false
   },
   "outputs": [
    {
     "name": "stdout",
     "output_type": "stream",
     "text": [
      "{'01020001983': 1}\n",
      "{'01020001983': 4, '01030001983': 2}\n"
     ]
    }
   ],
   "source": [
    "coupon = {}\n",
    "\n",
    "if point[number] >= 10 :\n",
    "    if number in coupon :\n",
    "        coupon[number] += 1\n",
    "    else :\n",
    "        coupon[number] = 1\n",
    "    point[number] -= 10\n",
    "\n",
    "print(coupon)\n",
    "print(point)"
   ]
  },
  {
   "cell_type": "code",
   "execution_count": 33,
   "metadata": {
    "collapsed": false
   },
   "outputs": [
    {
     "name": "stdout",
     "output_type": "stream",
     "text": [
      "{'키위': 5500, '딸기': 4500, '바나나': 5000}\n",
      "{'키위': 5500, '딸기': 4500, '바나나': 5000}\n"
     ]
    }
   ],
   "source": [
    "menu = {'키위':5000, '딸기':4000, '바나나':4500}\n",
    "large = menu\n",
    "for juice in large :\n",
    "    large[juice] += 500\n",
    "print(menu)\n",
    "print(large)"
   ]
  },
  {
   "cell_type": "code",
   "execution_count": 34,
   "metadata": {
    "collapsed": false
   },
   "outputs": [
    {
     "name": "stdout",
     "output_type": "stream",
     "text": [
      "{'키위': 5000, '딸기': 4000, '바나나': 4500}\n",
      "{'키위': 5500, '딸기': 4500, '바나나': 5000}\n"
     ]
    }
   ],
   "source": [
    "menu = {'키위':5000, '딸기':4000, '바나나':4500}\n",
    "large = menu.copy()\n",
    "for juice in large :\n",
    "    large[juice] += 500\n",
    "print(menu)\n",
    "print(large)"
   ]
  },
  {
   "cell_type": "code",
   "execution_count": 35,
   "metadata": {
    "collapsed": false
   },
   "outputs": [
    {
     "name": "stdout",
     "output_type": "stream",
     "text": [
      "5000\n"
     ]
    }
   ],
   "source": [
    "menu = {'키위':5000, '딸기':4000, '바나나':4500}\n",
    "print(menu['키위'])"
   ]
  },
  {
   "cell_type": "code",
   "execution_count": 37,
   "metadata": {
    "collapsed": false
   },
   "outputs": [
    {
     "name": "stdout",
     "output_type": "stream",
     "text": [
      "4500\n"
     ]
    }
   ],
   "source": [
    "menu = {'키위':5000, '딸기':4000, '딸기':4500}\n",
    "print(menu['딸기'])"
   ]
  },
  {
   "cell_type": "code",
   "execution_count": 3,
   "metadata": {
    "collapsed": false
   },
   "outputs": [
    {
     "name": "stdout",
     "output_type": "stream",
     "text": [
      "[메뉴]\n",
      "키위(5000) 딸기(4000) 바나나(4500) \n",
      "주문해주세요(여러 개를 시키실 경우 띄어쓰기 부탁드립니다^^) : 키위 딸기 바나나 바나나 딸기\n",
      "{'키위': 1, '딸기': 2, '바나나': 2}\n",
      "22000 원 입니다.\n"
     ]
    }
   ],
   "source": [
    "# 파이썬 팁) \n",
    "# 딕셔너리의 복사\n",
    "# 딕셔너리의 값을 복사하려고 할 때 단순히 count = menu 라고 코드를 작성하면 두 변수가 하나의 딕셔너리를 가르킨다는 것을 알 수 있을 것 입니다.\n",
    "# 그래서 딕셔너리의 값을 복사하기 위해서는 딕셔너리이름.copy() 함수를 사용하시면 됩니다.\n",
    "# 다음은 각 메뉴를 몇 잔씩 주문했는지 출력해주는 기능을 구현한 코드입니다. 딕셔너리의 복사에 중점을 두고 어떻게 해결되었는지 확인해보시기 바랍니다.\n",
    "\n",
    "menu = {'키위':5000, '딸기':4000, '바나나':4500}\n",
    "count = menu.copy()\n",
    "result = 0\n",
    "\n",
    "print('[메뉴]')\n",
    "\n",
    "for juice in menu :\n",
    "    count[juice] = 0\n",
    "    msg = juice + '(' + str(menu[juice]) + ')'\n",
    "    print(msg, end=\" \")\n",
    "    \n",
    "order = input('\\n주문해주세요(여러 개를 시키실 경우 띄어쓰기 부탁드립니다^^) : ').split()\n",
    "\n",
    "for i in order :\n",
    "    count[i] += 1\n",
    "    result += menu[i]\n",
    "\n",
    "print(count)\n",
    "print(result,'원 입니다.')"
   ]
  },
  {
   "cell_type": "markdown",
   "metadata": {},
   "source": [
    "# 딕셔너리를 왜 사용하나요?\n",
    "딕셔너리의 장점\n",
    "\n",
    "1) 키와 값의 쌍으로 이루어진 데이터를 다루기에 적합하다.\n",
    "2) 키를 알고 있을 때 굉장히 빠른 속도로 데이터에 접근할 수 있다.\n",
    "   리스트는 인덱스가 반드시 정수여야하지만, 딕셔너리에서는 다양한 문자열, 실수 등 다양한 데이터로 접근할 수 있다는 장점이 있다.\n",
    "\n",
    "리스트가 좋을 때도 있고, 딕셔너리가 좋을 때도 있다. 따라서, 리스트가 적합할 경우와 딕셔너리가 적합할 경우를 잘 판단하는 것이 중요하다."
   ]
  },
  {
   "cell_type": "code",
   "execution_count": 22,
   "metadata": {
    "collapsed": false
   },
   "outputs": [
    {
     "data": {
      "text/plain": [
       "dict_keys(['한국', '일본', '중국', '미국'])"
      ]
     },
     "execution_count": 22,
     "metadata": {},
     "output_type": "execute_result"
    }
   ],
   "source": [
    "나라퀴즈 = {'한국':'서울', '일본':'동경', '중국':'북경', '미국':'워싱턴'}\n",
    "\n",
    "나라퀴즈.keys()"
   ]
  },
  {
   "cell_type": "code",
   "execution_count": 23,
   "metadata": {
    "collapsed": false
   },
   "outputs": [
    {
     "data": {
      "text/plain": [
       "dict_values(['서울', '동경', '북경', '워싱턴'])"
      ]
     },
     "execution_count": 23,
     "metadata": {},
     "output_type": "execute_result"
    }
   ],
   "source": [
    "나라퀴즈.values()"
   ]
  },
  {
   "cell_type": "code",
   "execution_count": 24,
   "metadata": {
    "collapsed": false
   },
   "outputs": [
    {
     "data": {
      "text/plain": [
       "['서울', '동경', '북경', '워싱턴']"
      ]
     },
     "execution_count": 24,
     "metadata": {},
     "output_type": "execute_result"
    }
   ],
   "source": [
    "list(나라퀴즈.values())"
   ]
  },
  {
   "cell_type": "code",
   "execution_count": 25,
   "metadata": {
    "collapsed": false
   },
   "outputs": [
    {
     "name": "stdout",
     "output_type": "stream",
     "text": [
      "['한국', '일본', '중국', '미국']\n"
     ]
    },
    {
     "data": {
      "text/plain": [
       "'일본'"
      ]
     },
     "execution_count": 25,
     "metadata": {},
     "output_type": "execute_result"
    }
   ],
   "source": [
    "import random\n",
    "print(list(나라퀴즈))\n",
    "random.choice(list(나라퀴즈))"
   ]
  },
  {
   "cell_type": "code",
   "execution_count": 26,
   "metadata": {
    "collapsed": false
   },
   "outputs": [
    {
     "name": "stdout",
     "output_type": "stream",
     "text": [
      "서울\n"
     ]
    }
   ],
   "source": [
    "q = random.choice(list(나라퀴즈.values()))\n",
    "print(q)"
   ]
  },
  {
   "cell_type": "code",
   "execution_count": 27,
   "metadata": {
    "collapsed": false
   },
   "outputs": [
    {
     "name": "stdout",
     "output_type": "stream",
     "text": [
      "일본의 수도는 어디일까요? : 도쿄\n",
      "틀렸습니다. 정답은 동경입니다!\n"
     ]
    }
   ],
   "source": [
    "q = random.choice(list(나라퀴즈))\n",
    "\n",
    "a = input(q+'의 수도는 어디일까요? : ')\n",
    "\n",
    "if a == 나라퀴즈[q] :\n",
    "    print('정답입니다!')\n",
    "else :\n",
    "    print('틀렸습니다. 정답은 '+나라퀴즈[q]+'입니다!')"
   ]
  },
  {
   "cell_type": "code",
   "execution_count": 28,
   "metadata": {
    "collapsed": false
   },
   "outputs": [
    {
     "name": "stdout",
     "output_type": "stream",
     "text": [
      "[보기]\n",
      "서울\n",
      "동경\n",
      "북경\n",
      "워싱턴\n",
      "미국의 수도는 어디일까요? : 워신턴\n",
      "틀렸습니다. 정답은 워싱턴입니다!\n"
     ]
    }
   ],
   "source": [
    "q = random.choice(list(나라퀴즈))\n",
    "\n",
    "print('[보기]')\n",
    "for c in 나라퀴즈.values() :\n",
    "    print(c)\n",
    "\n",
    "a = input(q+'의 수도는 어디일까요? : ')\n",
    "\n",
    "\n",
    "if a == 나라퀴즈[q] :\n",
    "    print('정답입니다!')\n",
    "else :\n",
    "    print('틀렸습니다. 정답은 '+나라퀴즈[q]+'입니다!')"
   ]
  },
  {
   "cell_type": "code",
   "execution_count": 29,
   "metadata": {
    "collapsed": false
   },
   "outputs": [
    {
     "name": "stdout",
     "output_type": "stream",
     "text": [
      "[보기]\n",
      "서울\n",
      "동경\n",
      "북경\n",
      "워싱턴\n",
      "일본의 수도는 어디일까요? : 도쿄\n",
      "틀렸습니다. 정답은 동경입니다!\n",
      "-50\n"
     ]
    }
   ],
   "source": [
    "point = 0\n",
    "\n",
    "q = random.choice(list(나라퀴즈))\n",
    "\n",
    "print('[보기]')\n",
    "for c in 나라퀴즈.values() :\n",
    "    print(c)\n",
    "\n",
    "a = input(q+'의 수도는 어디일까요? : ')\n",
    "\n",
    "\n",
    "if a == 나라퀴즈[q] :\n",
    "    print('정답입니다!')\n",
    "    point += 100\n",
    "else :\n",
    "    print('틀렸습니다. 정답은 '+나라퀴즈[q]+'입니다!')\n",
    "    point -= 50\n",
    "\n",
    "print(point)"
   ]
  },
  {
   "cell_type": "code",
   "execution_count": 30,
   "metadata": {
    "collapsed": false
   },
   "outputs": [
    {
     "name": "stdout",
     "output_type": "stream",
     "text": [
      "[보기]\n",
      "서울\n",
      "동경\n",
      "북경\n",
      "워싱턴\n",
      "한국의 수도는 어디일까요? : 서울\n",
      "정답입니다!\n",
      "100\n",
      "[보기]\n",
      "서울\n",
      "동경\n",
      "북경\n",
      "워싱턴\n",
      "미국의 수도는 어디일까요? : LA\n",
      "틀렸습니다. 정답은 워싱턴입니다!\n",
      "50\n",
      "[보기]\n",
      "서울\n",
      "동경\n",
      "북경\n",
      "워싱턴\n",
      "일본의 수도는 어디일까요? : 도쿄\n",
      "틀렸습니다. 정답은 동경입니다!\n",
      "0\n"
     ]
    }
   ],
   "source": [
    "point = 0\n",
    "\n",
    "for i in range(3) :\n",
    "    q = random.choice(list(나라퀴즈))\n",
    "\n",
    "    print('[보기]')\n",
    "    for c in 나라퀴즈.values() :\n",
    "        print(c)\n",
    "\n",
    "    a = input(q+'의 수도는 어디일까요? : ')\n",
    "\n",
    "    if a == 나라퀴즈[q] :\n",
    "        print('정답입니다!')\n",
    "        point += 100\n",
    "    else :\n",
    "        print('틀렸습니다. 정답은 '+나라퀴즈[q]+'입니다!')\n",
    "        point -= 50\n",
    "\n",
    "    print(point)"
   ]
  },
  {
   "cell_type": "code",
   "execution_count": 31,
   "metadata": {
    "collapsed": true
   },
   "outputs": [],
   "source": [
    "나라퀴즈 = open('나라퀴즈.txt')"
   ]
  },
  {
   "cell_type": "code",
   "execution_count": 32,
   "metadata": {
    "collapsed": false
   },
   "outputs": [
    {
     "name": "stdout",
     "output_type": "stream",
     "text": [
      "한국 서울\n",
      "\n",
      "미국 워싱턴\n",
      "\n",
      "일본 동경\n",
      "\n",
      "중국 북경\n",
      "\n",
      "대만 타이페이\n"
     ]
    }
   ],
   "source": [
    "나라퀴즈 = open('나라퀴즈.txt')\n",
    "\n",
    "for 나라 in 나라퀴즈 :\n",
    "    print(나라)"
   ]
  },
  {
   "cell_type": "code",
   "execution_count": 33,
   "metadata": {
    "collapsed": false
   },
   "outputs": [
    {
     "name": "stdout",
     "output_type": "stream",
     "text": [
      "['한국', '서울']\n",
      "['미국', '워싱턴']\n",
      "['일본', '동경']\n",
      "['중국', '북경']\n",
      "['대만', '타이페이']\n"
     ]
    }
   ],
   "source": [
    "나라퀴즈 = open('나라퀴즈.txt')\n",
    "\n",
    "for 나라 in 나라퀴즈 :\n",
    "    print(나라.split())"
   ]
  },
  {
   "cell_type": "code",
   "execution_count": 34,
   "metadata": {
    "collapsed": false
   },
   "outputs": [
    {
     "name": "stdout",
     "output_type": "stream",
     "text": [
      "['한국', '미국', '일본', '중국', '대만']\n",
      "['서울', '워싱턴', '동경', '북경', '타이페이']\n"
     ]
    }
   ],
   "source": [
    "나라퀴즈 = open('나라퀴즈.txt')\n",
    "nation = []\n",
    "capital = []\n",
    "\n",
    "for 나라 in 나라퀴즈 :\n",
    "    k, v = 나라.split()\n",
    "    nation.append(k)\n",
    "    capital.append(v)\n",
    "    \n",
    "print(nation)\n",
    "print(capital)"
   ]
  },
  {
   "cell_type": "code",
   "execution_count": 35,
   "metadata": {
    "collapsed": false
   },
   "outputs": [
    {
     "name": "stdout",
     "output_type": "stream",
     "text": [
      "{'한국': '서울', '미국': '워싱턴', '일본': '동경', '중국': '북경', '대만': '타이페이'}\n"
     ]
    }
   ],
   "source": [
    "나라퀴즈 = open('나라퀴즈.txt')\n",
    "nation = {}\n",
    "\n",
    "for 나라 in 나라퀴즈 :\n",
    "    k, v = 나라.split()\n",
    "    nation[k] = v\n",
    "\n",
    "print(nation)"
   ]
  },
  {
   "cell_type": "code",
   "execution_count": null,
   "metadata": {
    "collapsed": true
   },
   "outputs": [],
   "source": []
  }
 ],
 "metadata": {
  "kernelspec": {
   "display_name": "Python 3",
   "language": "python",
   "name": "python3"
  },
  "language_info": {
   "codemirror_mode": {
    "name": "ipython",
    "version": 3
   },
   "file_extension": ".py",
   "mimetype": "text/x-python",
   "name": "python",
   "nbconvert_exporter": "python",
   "pygments_lexer": "ipython3",
   "version": "3.6.0"
  }
 },
 "nbformat": 4,
 "nbformat_minor": 2
}
