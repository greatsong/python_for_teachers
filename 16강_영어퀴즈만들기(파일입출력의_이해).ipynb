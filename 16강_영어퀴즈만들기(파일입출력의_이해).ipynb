{
 "cells": [
  {
   "cell_type": "code",
   "execution_count": 8,
   "metadata": {
    "collapsed": false
   },
   "outputs": [
    {
     "name": "stdout",
     "output_type": "stream",
     "text": [
      "I python U "
     ]
    }
   ],
   "source": [
    "text = \"I\\t python\\n U\"\n",
    "for i in text.split() :\n",
    "    print(i,end=\" \")"
   ]
  },
  {
   "cell_type": "markdown",
   "metadata": {},
   "source": [
    "# [영어]  영어 퀴즈 만들기"
   ]
  },
  {
   "cell_type": "markdown",
   "metadata": {},
   "source": [
    "1. 프로젝트 개요\n",
    "1) 파일 입출력의 필요성\n",
    "선생님 안녕하세요? 지금까지는 키보드를 통해 프로그램에 데이터를 입력했지만 수백, 수천개 이상의 데이터가 필요할 경우 하나씩 키보드로 입력하는 것은 매우 효율적이지 못한 일입니다. \n",
    "또한, 수많은 데이터를 확인하기 위해서는 모니터에 잠시 스쳐지나가는 출력 결과보다는 파일 형태로 저장되어있는 것이 더 나은 경우가 많습니다.\n",
    "\n",
    "따라서 이번 시간에는 수천, 수만개의 데이터도 쉽게 입력하고 출력할 수 있는 방법을 배우기 위해 문장 순서 재배열 문제 만들기 프로그램을 함께 만들어보겠습니다.\n",
    "\n",
    "2) 영어 퀴즈 만들기 프로젝트\n",
    "영어 퀴즈 만들기 프로젝트는 해석을 보고 문장의 빈 칸을 완성하는 연습문제를 만드실 때 겪을 수 있는 문제를 해결하기 위한 프로젝트입니다. \n",
    "보통의 경우 선생님들께서 문장을 직접 편집하셔야하지만, 이번 시간을 통해 프로그래밍으로 이것을 어떻게 쉽고 빠르게 할 수 있는지 배우시게 됩니다.\n",
    "\n",
    "또한 이 프로젝트를 잘 이해하셔서 응용하시면 문장 순서 재배열, 문제 순서 재배열 등 다양하게 응용하실 수 있을 것입니다.\n",
    "\n",
    "3) 이전 시간 배운 내용 복습하기\n",
    "(1) rstrip()\n",
    "    다음이 설명하는 함수 이름은 무엇일까요?\n",
    "\n",
    "(2) split()\n",
    "    다음이 설명하는 함수 이름은 무엇일까요?\n",
    "\n",
    "(3) list indexing\n",
    "         퀴즈)\n",
    "         다음 메뉴 중 list indexing을 활용하여 삼겹살을 출력해주세요.\n",
    "         [‘치킨’, ‘피자’, ‘떡볶이’, ‘보쌈’, ‘삼겹살’]\n",
    "\n",
    "(4) random.randrange()\n",
    "         퀴즈)\n",
    "         다음의 이름 중 임의로 한 가지를 골라 출력해주세요.\n",
    "         [‘노래당’, ‘영화당’, ‘과자당’, ‘포도당’, ‘야구당’]\n",
    "         \n",
    "(4) random.shuffle()\n",
    "         퀴즈)\n",
    "         다음 메뉴를 임의로 섞어서 출력해주세요.\n",
    "         [‘치킨’, ‘피자’, ‘떡볶이’, ‘보쌈’, ‘삼겹살’]"
   ]
  },
  {
   "cell_type": "markdown",
   "metadata": {},
   "source": [
    "2. 파일입출력\n",
    "    파일 열기 모드에는 다음과 같은 것들이 있다.\n",
    "\n",
    "    파일열기모드\t설명\n",
    "    r\t읽기모드 - 파일을 읽기만 할 때 사용\n",
    "    w\t쓰기모드 - 파일에 내용을 쓸 때 사용\n",
    "    a\t추가모드 - 파일의 마지막에 새로운 내용을 추가 시킬 때 사용\n",
    "    \n",
    "1) 파일에서 내용을 읽어오기(read)\n",
    "    f = open(\"파일이름.txt\", 'r')\n",
    "    f.close()\n",
    "2) 파일에 내용을 쓰기(write)\n",
    "    f = open(\"파일이름.txt\", 'w')\n",
    "    f.close()\n",
    "3) 파일에 내용을 이어서 쓰기(append)\n",
    "    f = open(\"파일이름.txt\", 'a')\n",
    "    f.close()"
   ]
  },
  {
   "cell_type": "markdown",
   "metadata": {},
   "source": [
    "1) 파일에서 내용을 읽어오기(read)"
   ]
  },
  {
   "cell_type": "markdown",
   "metadata": {},
   "source": [
    "read() 함수를 활용한 파일 입력 : 전체 파일 읽어오기"
   ]
  },
  {
   "cell_type": "code",
   "execution_count": 11,
   "metadata": {
    "collapsed": false
   },
   "outputs": [
    {
     "name": "stdout",
     "output_type": "stream",
     "text": [
      "I love you\n",
      "나는 너를 사랑한다\n",
      "We play baseball\n",
      "우리는 야구를 한다\n",
      "Jane likes Tom\n",
      "제인은 톰을 좋아한다\n"
     ]
    }
   ],
   "source": [
    "file1 = open('eng.txt','r')\n",
    "\n",
    "print(file1.read())\n",
    "    \n",
    "file1.close()"
   ]
  },
  {
   "cell_type": "markdown",
   "metadata": {},
   "source": [
    "readlines() 함수를 활용한 파일 입력 : 여러 줄 읽어오기"
   ]
  },
  {
   "cell_type": "code",
   "execution_count": 13,
   "metadata": {
    "collapsed": false
   },
   "outputs": [
    {
     "name": "stdout",
     "output_type": "stream",
     "text": [
      "I love you\n",
      "\n"
     ]
    }
   ],
   "source": [
    "file1 = open('eng.txt','r')\n",
    "\n",
    "print(file1.readline())\n",
    "    \n",
    "file1.close()"
   ]
  },
  {
   "cell_type": "code",
   "execution_count": null,
   "metadata": {
    "collapsed": true
   },
   "outputs": [],
   "source": [
    "file1 = open('eng.txt','r')\n",
    "\n",
    "print(file1.readline())\n",
    "    \n",
    "file1.close()"
   ]
  },
  {
   "cell_type": "markdown",
   "metadata": {},
   "source": [
    "readline() 함수를 활용한 파일 입력 : 한 줄 읽어오기"
   ]
  },
  {
   "cell_type": "code",
   "execution_count": 3,
   "metadata": {
    "collapsed": false
   },
   "outputs": [
    {
     "name": "stdout",
     "output_type": "stream",
     "text": [
      "I love you\n",
      "\n"
     ]
    }
   ],
   "source": [
    "file1 = open('16_eng.txt','r')\n",
    "\n",
    "print(file1.readline())\n",
    "    \n",
    "file1.close()"
   ]
  },
  {
   "cell_type": "markdown",
   "metadata": {},
   "source": [
    "for문 활용하기 : 한 줄씩 읽어오기"
   ]
  },
  {
   "cell_type": "code",
   "execution_count": 15,
   "metadata": {
    "collapsed": false
   },
   "outputs": [
    {
     "name": "stdout",
     "output_type": "stream",
     "text": [
      "I love you\n",
      "\n",
      "나는 너를 사랑한다\n",
      "\n",
      "We play baseball\n",
      "\n",
      "우리는 야구를 한다\n",
      "\n",
      "Jane likes Tom\n",
      "\n",
      "제인은 톰을 좋아한다\n"
     ]
    }
   ],
   "source": [
    "file1 = open('eng.txt','r')\n",
    "\n",
    "for row in file1 :\n",
    "    print(row)\n",
    "    \n",
    "file1.close()"
   ]
  },
  {
   "cell_type": "markdown",
   "metadata": {},
   "source": [
    "rstrip() 함수를 활용한 줄 바꿈 문자 없애기"
   ]
  },
  {
   "cell_type": "markdown",
   "metadata": {},
   "source": [
    "2) 파일에 내용을 쓰기(write)"
   ]
  },
  {
   "cell_type": "markdown",
   "metadata": {},
   "source": [
    "write() 함수를 활용한 파일 출력 : 전체 내용 파일에 쓰기"
   ]
  },
  {
   "cell_type": "code",
   "execution_count": 20,
   "metadata": {
    "collapsed": false
   },
   "outputs": [
    {
     "name": "stdout",
     "output_type": "stream",
     "text": [
      "오늘 기분이 어떠세요? : ㅁㅇㄴㄹ\\n addfㅁㅇㄴㄹ\n"
     ]
    }
   ],
   "source": [
    "file = open('today1.txt','w')\n",
    "\n",
    "msg = input('오늘 기분이 어떠세요? : ')\n",
    "file.write(msg)\n",
    "file.close()"
   ]
  },
  {
   "cell_type": "markdown",
   "metadata": {},
   "source": [
    "writelines() 함수를 활용한 파일 출력 : 한 줄씩 파일에 쓰기"
   ]
  },
  {
   "cell_type": "code",
   "execution_count": 28,
   "metadata": {
    "collapsed": false
   },
   "outputs": [
    {
     "name": "stdout",
     "output_type": "stream",
     "text": [
      "1번째로 좋아하는 과일은? : 사과\n",
      "2번째로 좋아하는 과일은? : 복숭아\n",
      "3번째로 좋아하는 과일은? : 포도\n"
     ]
    }
   ],
   "source": [
    "file = open('fruit.txt','w')\n",
    "\n",
    "for i in range(3) :\n",
    "    msg = input(str(i+1)+'번째로 좋아하는 과일은? : ')\n",
    "    file.write('저는 '+msg+'를 좋아합니다.\\n')\n",
    "    \n",
    "file.close()"
   ]
  },
  {
   "cell_type": "markdown",
   "metadata": {},
   "source": [
    "3. 문장 순서 재배열 문제\n",
    "   1) 문제상황\n",
    "   영어 선생님이신 송잉글 선생님은 문장 형식에 대한 이해가 부족한 아이들을 위해 연습문제를 만들어주시려고 합니다. \n",
    "현재 상태  : 수업자료로 만들어둔 많은 영어 문장과 해석이 텍스트 파일로 있습니다.\n",
    "목표 상태 : 아이들이 영어 문장을 완성하도록 연습할 수 있는 문제를 프린트로 나누어주고 싶습니다.\n",
    "\n",
    "   2) 문제해결전략 구상\n",
    "   3) 알고리즘 설계\n",
    "   4) 프로그래밍\n",
    "   5) 오류 수정 및 아이디어 개선"
   ]
  },
  {
   "cell_type": "code",
   "execution_count": 31,
   "metadata": {
    "collapsed": false
   },
   "outputs": [
    {
     "name": "stdout",
     "output_type": "stream",
     "text": [
      "I love you\n",
      "나는 너를 사랑한다\n",
      "We play baseball\n",
      "우리는 야구를 한다\n",
      "Jane likes Tom\n",
      "제인은 톰을 좋아한다\n"
     ]
    }
   ],
   "source": [
    "file1 = open('eng.txt')\n",
    "\n",
    "for row in file1 :\n",
    "    print(row.strip())\n",
    "    \n",
    "file1.close()"
   ]
  },
  {
   "cell_type": "markdown",
   "metadata": {},
   "source": [
    "맨 앞 칸(주어)를 빈 칸으로 바꾸기"
   ]
  },
  {
   "cell_type": "markdown",
   "metadata": {},
   "source": [
    "2) 홀 수 문장일 경우"
   ]
  },
  {
   "cell_type": "code",
   "execution_count": 22,
   "metadata": {
    "collapsed": false
   },
   "outputs": [
    {
     "name": "stdout",
     "output_type": "stream",
     "text": [
      "['[   ]', 'love', 'you']\n",
      "나는 너를 사랑한다\n",
      "\n",
      "['[   ]', 'play', 'baseball']\n",
      "우리는 야구를 한다\n",
      "\n",
      "['[   ]', 'likes', 'Tom']\n",
      "제인은 톰을 좋아한다\n"
     ]
    }
   ],
   "source": [
    "file1 = open('16_eng.txt')\n",
    "\n",
    "cnt = 0\n",
    "for row in file1 :\n",
    "    if cnt % 2 == 0 :\n",
    "        row = row.split()\n",
    "        row[0] = '[   ]'\n",
    "    cnt += 1\n",
    "    print(row)\n",
    "    \n",
    "file1.close()"
   ]
  },
  {
   "cell_type": "code",
   "execution_count": 23,
   "metadata": {
    "collapsed": false
   },
   "outputs": [
    {
     "name": "stdout",
     "output_type": "stream",
     "text": [
      "['I', 'love', '[   ]']\n",
      "나는 너를 사랑한다\n",
      "\n",
      "['We', 'play', '[   ]']\n",
      "우리는 야구를 한다\n",
      "\n",
      "['Jane', 'likes', '[   ]']\n",
      "제인은 톰을 좋아한다\n"
     ]
    }
   ],
   "source": [
    "file1 = open('16_eng.txt')\n",
    "\n",
    "cnt = 0\n",
    "for row in file1 :\n",
    "    if cnt % 2 == 0 :\n",
    "        row = row.split()\n",
    "        row[-1] = '[   ]'\n",
    "    cnt += 1\n",
    "    print(row)\n",
    "\n",
    "file1.close()"
   ]
  },
  {
   "cell_type": "code",
   "execution_count": 29,
   "metadata": {
    "collapsed": false
   },
   "outputs": [
    {
     "name": "stdout",
     "output_type": "stream",
     "text": [
      "['[   ]', 'love', 'you']\n",
      "나는 너를 사랑한다\n",
      "\n",
      "['We', '[   ]', 'baseball']\n",
      "우리는 야구를 한다\n",
      "\n",
      "['Jane', 'likes', '[   ]']\n",
      "제인은 톰을 좋아한다\n"
     ]
    }
   ],
   "source": [
    "import random\n",
    "\n",
    "file1 = open('16_eng.txt')\n",
    "cnt = 0\n",
    "\n",
    "for row in file1 :\n",
    "    if cnt % 2 == 0 :\n",
    "        row = row.split()\n",
    "        no = random.randrange(len(row))\n",
    "        row[no] = '[   ]'\n",
    "    cnt += 1\n",
    "    print(row)\n",
    "\n",
    "file1.close()"
   ]
  },
  {
   "cell_type": "code",
   "execution_count": 28,
   "metadata": {
    "collapsed": false
   },
   "outputs": [],
   "source": [
    "import random\n",
    "\n",
    "file1 = open('16_eng.txt')\n",
    "file2 = open('16_quiz.txt','w')\n",
    "cnt = 0\n",
    "\n",
    "for row in file1 :\n",
    "    if cnt % 2 == 0 :\n",
    "        row = row.split()\n",
    "        no = random.randrange(len(row))\n",
    "        row[no] = '[   ]'\n",
    "    cnt += 1\n",
    "    \n",
    "    for i in row :\n",
    "        file2.write(i+' ')\n",
    "    file2.write('\\n')\n",
    "\n",
    "file1.close()\n",
    "file2.close()"
   ]
  },
  {
   "cell_type": "code",
   "execution_count": 29,
   "metadata": {
    "collapsed": true
   },
   "outputs": [],
   "source": [
    "import random\n",
    "\n",
    "file1 = open('eng.txt')\n",
    "file2 = open('16_quiz.txt','w')\n",
    "ans = []\n",
    "cnt = 0\n",
    "\n",
    "for row in file1 :\n",
    "    if cnt % 2 == 0 :\n",
    "        row = row.split()\n",
    "        no = random.randrange(len(row))\n",
    "        ans.append(row[no])\n",
    "        row[no] = '[   ]'\n",
    "    cnt += 1\n",
    "    \n",
    "    for i in row :\n",
    "        file2.write(i+' ')\n",
    "    file2.write('\\n')\n",
    "\n",
    "file1.close()\n",
    "file2.close()"
   ]
  },
  {
   "cell_type": "code",
   "execution_count": 32,
   "metadata": {
    "collapsed": false
   },
   "outputs": [],
   "source": [
    "file3 = open('16_quiz.txt','a')\n",
    "file3.write('\\n[보기]\\n')\n",
    "random.shuffle(ans)\n",
    "\n",
    "for i in ans :\n",
    "    msg = i + ' '\n",
    "    file3.write(msg)\n",
    "    \n",
    "file3.close()"
   ]
  },
  {
   "cell_type": "code",
   "execution_count": 33,
   "metadata": {
    "collapsed": true
   },
   "outputs": [],
   "source": [
    "with open('16_quiz.txt','a') as file3 :\n",
    "    file3.write('\\n[보기]\\n')\n",
    "    random.shuffle(ans)\n",
    "\n",
    "    for i in ans :\n",
    "        msg = i + ' '\n",
    "        file3.write(msg)"
   ]
  },
  {
   "cell_type": "markdown",
   "metadata": {},
   "source": [
    "4. 프로젝트 완성\n",
    "   1) 핵심 코드 설명\n",
    "   2) 파이썬 팁 설명\n",
    "   - Python tip) w+, r+, a+, 기본 모드 : r\n",
    "   - with 문\n",
    "   \n",
    "5. 정리 : 오늘 배운 내용 중심으로\n",
    "\n",
    "6. 평가"
   ]
  }
 ],
 "metadata": {
  "kernelspec": {
   "display_name": "Python 3",
   "language": "python",
   "name": "python3"
  },
  "language_info": {
   "codemirror_mode": {
    "name": "ipython",
    "version": 3
   },
   "file_extension": ".py",
   "mimetype": "text/x-python",
   "name": "python",
   "nbconvert_exporter": "python",
   "pygments_lexer": "ipython3",
   "version": "3.6.0"
  }
 },
 "nbformat": 4,
 "nbformat_minor": 2
}
